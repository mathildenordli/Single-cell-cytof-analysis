{
 "cells": [
  {
   "cell_type": "code",
   "execution_count": 2,
   "metadata": {},
   "outputs": [],
   "source": [
    "import pandas as pd\n",
    "from fcsparser import parse"
   ]
  },
  {
   "cell_type": "code",
   "execution_count": 3,
   "metadata": {},
   "outputs": [],
   "source": [
    "baseline_files = ['baseline_id10', 'baseline_id11', 'baseline_id12', 'baseline_id13', 'baseline_id14', 'baseline_id15', 'baseline_id16', 'baseline_id17', 'baseline_id18', 'baseline_id19', 'baseline_id20', 'baseline_id21', 'baseline_id22', 'baseline_id23', 'baseline_id24', 'baseline_id25', 'baseline_id26', 'baseline_id27', 'baseline_id28', 'baseline_id29', 'baseline_id30', 'baseline_id31', 'baseline_id32', 'baseline_id33']"
   ]
  },
  {
   "cell_type": "code",
   "execution_count": 4,
   "metadata": {},
   "outputs": [],
   "source": [
    "# missing id 24 \n",
    "post_files = ['post_id10', 'post_id11', 'post_id12', 'post_id13', 'post_id14', 'post_id15', 'post_id16', 'post_id17', 'post_id18', 'post_id19', 'post_id20', 'post_id21', 'post_id22', 'post_id23', 'post_id25', 'post_id26', 'post_id27', 'post_id28', 'post_id29', 'post_id30', 'post_id31', 'post_id32', 'post_id33']"
   ]
  },
  {
   "cell_type": "code",
   "execution_count": 5,
   "metadata": {},
   "outputs": [],
   "source": [
    "healthy_files = ['healthy_id0', 'healthy_id1', 'healthy_id2', 'healthy_id3', 'healthy_id4', 'healthy_id5', 'healthy_id6', 'healthy_id7', 'healthy_id8', 'healthy_id9']"
   ]
  },
  {
   "cell_type": "code",
   "execution_count": 6,
   "metadata": {},
   "outputs": [],
   "source": [
    "def fcs_to_df(fcs_file):\n",
    "    meta, data = parse(fcs_file, meta_data_only=False)\n",
    "    \n",
    "    num_params = int(meta.get('$PAR', 0)) \n",
    "    \n",
    "    column_names = [\n",
    "        meta.get(f'$P{i}S', meta.get(f'$P{i}N', f'Unnamed_P{i}')) \n",
    "        for i in range(1, num_params + 1)\n",
    "    ]\n",
    "    \n",
    "    df = pd.DataFrame(data, columns=column_names)\n",
    "    return df"
   ]
  },
  {
   "cell_type": "code",
   "execution_count": 7,
   "metadata": {},
   "outputs": [],
   "source": [
    "for file in baseline_files:\n",
    "    df = fcs_to_df('annonymized_harmonized_data/' + file + '.fcs')\n",
    "    df.to_csv(f'csv_files_harmonized/{file}_harmonized.csv', index=False)"
   ]
  },
  {
   "cell_type": "code",
   "execution_count": 8,
   "metadata": {},
   "outputs": [],
   "source": [
    "for file in post_files:\n",
    "    df = fcs_to_df('annonymized_harmonized_data/' + file + '.fcs')\n",
    "    df.to_csv(f'csv_files_harmonized/{file}_harmonized.csv', index=False)"
   ]
  },
  {
   "cell_type": "code",
   "execution_count": 9,
   "metadata": {},
   "outputs": [],
   "source": [
    "for file in healthy_files:\n",
    "    df = fcs_to_df('annonymized_harmonized_data/' + file + '.fcs')\n",
    "    df.to_csv(f'csv_files_harmonized/{file}_harmonized.csv', index=False)"
   ]
  },
  {
   "cell_type": "code",
   "execution_count": 10,
   "metadata": {},
   "outputs": [
    {
     "data": {
      "text/plain": [
       "Index(['Amplitude', '190BCKG', '138Ba', 'CD16', '111Cd', 'CD4', 'CD14', 'CD19',\n",
       "       'CD3', '140Ce', 'Center', '133Cs', 'CD235ab', 'CD11c', 'CD33', 'CD133',\n",
       "       'CD123', 'CD162', 'CD185', 'CD45RA', 'CD278', 'CD194', 'Event_length',\n",
       "       'CD161', 'CD184', '157Gd', 'CD27', 'CD44', '177Hf', '178Hf', 'CD127',\n",
       "       '127I', '115In', '191Ir', '193Ir', 'CD10', 'CD73', 'HLA-DR', 'CD146',\n",
       "       'CD117', 'CD8a', 'CD34', 'CD105', 'Offset', '208Pb', '102Pd', '104Pd',\n",
       "       '105Pd', '106Pd', '108Pd', '110Pd', 'CD49d', '194Pt', '195Pt', '198Pt',\n",
       "       'Residual', '103Rh', 'CD20', 'CD25', 'CD66b', 'CD49f', '120Sn',\n",
       "       'CD45RO', 'CD90', '131Xe', 'CD45', 'CD195', 'CD38', 'CD196', 'CD135',\n",
       "       'CD56', 'Time'],\n",
       "      dtype='object')"
      ]
     },
     "execution_count": 10,
     "metadata": {},
     "output_type": "execute_result"
    }
   ],
   "source": [
    "data = pd.read_csv('csv_files_harmonized/baseline_id10_harmonized.csv')\n",
    "data.columns"
   ]
  }
 ],
 "metadata": {
  "kernelspec": {
   "display_name": "master",
   "language": "python",
   "name": "python3"
  },
  "language_info": {
   "codemirror_mode": {
    "name": "ipython",
    "version": 3
   },
   "file_extension": ".py",
   "mimetype": "text/x-python",
   "name": "python",
   "nbconvert_exporter": "python",
   "pygments_lexer": "ipython3",
   "version": "3.12.7"
  },
  "orig_nbformat": 4
 },
 "nbformat": 4,
 "nbformat_minor": 2
}
